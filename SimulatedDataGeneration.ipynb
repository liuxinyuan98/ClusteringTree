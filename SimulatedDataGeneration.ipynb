{
 "cells": [
  {
   "attachments": {},
   "cell_type": "markdown",
   "metadata": {},
   "source": [
    "# Generate the simulated traces  \n",
    "\\![The scheme of the singe-molecule break junction trace data generator.jpg](./Schemes/Scheme_simulateddataGenerator.jpg \"The scheme of the singe-molecule break junction trace data generator\")"
   ]
  },
  {
   "attachments": {},
   "cell_type": "markdown",
   "metadata": {},
   "source": [
    "## Tools and methods imports"
   ]
  },
  {
   "cell_type": "code",
   "execution_count": 2,
   "metadata": {},
   "outputs": [],
   "source": [
    "# imports\n",
    "from ClusteringTreeToolkit import SimulatedDataGenerator as sdg\n",
    "import pandas as pd"
   ]
  },
  {
   "attachments": {},
   "cell_type": "markdown",
   "metadata": {},
   "source": [
    "## 13 kinds of traces with various features"
   ]
  },
  {
   "cell_type": "code",
   "execution_count": null,
   "metadata": {},
   "outputs": [],
   "source": [
    "# background\n",
    "DM0 = sdg.DataMaker(MoleSigNodes = pd.DataFrame([[0.01,-3,0,0.01,0.05],[0.02,-3.5,0.001,0.01,0.05],[0.03,-4,0.001,0.01,0.05],[0.12,-5,0.001,0.01,0.05],[0.13,-6,0.001,0.01,0.05],[0.14,-7,0.001,0.01,0.05]],\n",
    "            columns=('distance','condutance','distance_stddev','conductance_stddev','Gauss_noise_stddev')))\n",
    "\n",
    "# single plateau\n",
    "DM1 = sdg.DataMaker(MoleSigNodes=pd.DataFrame([[0.01, -3, 0, 0.01, 0.05], [0.02, -3.5, 0.001, 0.01, 0.1], [0.03, -4, 0.001, 0.01, 0.1], [0.4, -4, 0.001, 0.01, 0.1],[0.14,-7,0.001,0.01,0.05]], \n",
    "            columns=('distance', 'condutance', 'distance_stddev', 'conductance_stddev','Gauss_noise_stddev')))\n",
    "DM2 = sdg.DataMaker(MoleSigNodes=pd.DataFrame([[0.01, -3, 0, 0.01, 0.05], [0.02, -3.5, 0.001, 0.01, 0.1], [0.09, -5, 0.001, 0.01, 0.1], [0.6, -5, 0.001, 0.01, 0.1],[0.14,-7,0.001,0.01,0.05]], \n",
    "            columns=('distance', 'condutance', 'distance_stddev', 'conductance_stddev','Gauss_noise_stddev')))\n",
    "DM3 = sdg.DataMaker(MoleSigNodes=pd.DataFrame([[0.01, -3, 0, 0.01, 0.05], [0.02, -3.5, 0.001, 0.01, 0.1], [0.03, -4, 0.001, 0.01, 0.1], [0.6, -4, 0.001, 0.01, 0.1],[0.14,-7,0.001,0.01,0.05]], \n",
    "            columns=('distance', 'condutance', 'distance_stddev', 'conductance_stddev','Gauss_noise_stddev')))\n",
    "\n",
    "# double plateaus with decay feature\n",
    "DM4 = sdg.DataMaker(MoleSigNodes=pd.DataFrame([[0.01, -3, 0, 0.01, 0.05], [0.02, -3.5, 0.001, 0.01, 0.1], [0.03, -4, 0.001, 0.01, 0.1], [0.4, -4, 0.001, 0.01, 0.1],[0.03, -5, 0.001, 0.01, 0.1],[0.2, -5, 0.001, 0.01, 0.1],[0.14,-7,0.001,0.01,0.05]], \n",
    "            columns=('distance', 'condutance', 'distance_stddev', 'conductance_stddev','Gauss_noise_stddev')))\n",
    "DM5 = sdg.DataMaker(MoleSigNodes=pd.DataFrame([[0.01, -3, 0, 0.01, 0.05], [0.02, -3.5, 0.001, 0.01, 0.1], [0.03, -4, 0.001, 0.01, 0.1], [0.2, -4, 0.001, 0.01, 0.1],[0.03, -5, 0.001, 0.01, 0.1],[0.2, -5, 0.001, 0.01, 0.1],[0.14,-7,0.001,0.01,0.05]], \n",
    "            columns=('distance', 'condutance', 'distance_stddev', 'conductance_stddev','Gauss_noise_stddev')))\n",
    "DM6 = sdg.DataMaker(MoleSigNodes=pd.DataFrame([[0.01, -3, 0, 0.01, 0.05], [0.02, -3.5, 0.001, 0.01, 0.1], [0.03, -4, 0.001, 0.01, 0.1], [0.2, -4, 0.001, 0.01, 0.1],[0.03, -5, 0.001, 0.01, 0.1],[0.4, -5, 0.001, 0.01, 0.1],[0.14,-7,0.001,0.01,0.05]], \n",
    "            columns=('distance', 'condutance', 'distance_stddev', 'conductance_stddev','Gauss_noise_stddev')))\n",
    "\n",
    "# double plateaus with jump feature\n",
    "DM7 = sdg.DataMaker(MoleSigNodes=pd.DataFrame([[0.01, -3, 0, 0.01, 0.05], [0.02, -3.5, 0.001, 0.01, 0.1], [0.03, -4, 0.001, 0.01, 0.1], [0.4, -4, 0.001, 0.01, 0.1],[0.03, -3.5, 0.001, 0.01, 0.1],[0.2, -3.5, 0.001, 0.01, 0.1],[0.14,-7,0.001,0.01,0.05]], \n",
    "            columns=('distance', 'condutance', 'distance_stddev', 'conductance_stddev','Gauss_noise_stddev')))\n",
    "DM8 = sdg.DataMaker(MoleSigNodes=pd.DataFrame([[0.01, -3, 0, 0.01, 0.05], [0.02, -3.5, 0.001, 0.01, 0.1], [0.09, -5, 0.001, 0.01, 0.1], [0.4, -5, 0.001, 0.01, 0.1],[0.09, -4, 0.001, 0.01, 0.1],[0.2, -4, 0.001, 0.01, 0.1],[0.14,-7,0.001,0.01,0.05]], \n",
    "            columns=('distance', 'condutance', 'distance_stddev', 'conductance_stddev','Gauss_noise_stddev')))\n",
    "DM9 = sdg.DataMaker(MoleSigNodes=pd.DataFrame([[0.01, -3, 0, 0.01, 0.05], [0.02, -3.5, 0.001, 0.01, 0.1], [0.09, -5, 0.001, 0.01, 0.1], [0.4, -5, 0.001, 0.01, 0.1],[0.03, -4.5, 0.001, 0.01, 0.1],[0.2, -4.5, 0.001, 0.01, 0.1],[0.14,-7,0.001,0.01,0.05]], \n",
    "            columns=('distance', 'condutance', 'distance_stddev', 'conductance_stddev','Gauss_noise_stddev')))\n",
    "\n",
    "# multi short plateaus\n",
    "DM10 = sdg.DataMaker(MoleSigNodes=pd.DataFrame([[0.005, -2, 0, 0.001, 0.05], [0.01, -3, 0.001, 0.01, 0.1],[0.1, -3, 0.001, 0.01, 0.1], [0.03, -3.5, 0.001, 0.01, 0.1], [0.1, -3.5, 0.001, 0.01, 0.1],[0.03, -4, 0.001, 0.01, 0.1],[0.1, -4, 0.001, 0.01, 0.1],[0.14,-7,0.001,0.01,0.05]], \n",
    "            columns=('distance', 'condutance', 'distance_stddev', 'conductance_stddev','Gauss_noise_stddev')))\n",
    "DM11 = sdg.DataMaker(MoleSigNodes=pd.DataFrame([[0.005, -2, 0, 0.001, 0.05], [0.01, -3, 0.001, 0.01, 0.1],[0.1, -3, 0.001, 0.01, 0.1], [0.03, -3.5, 0.001, 0.01, 0.1], [0.1, -3.5, 0.001, 0.01, 0.1],[0.03, -4, 0.001, 0.01, 0.1],[0.1, -4, 0.001, 0.01, 0.1],[0.03, -4.5, 0.001, 0.01, 0.1],[0.1, -4.5, 0.001, 0.01, 0.1],[0.14,-7,0.001,0.01,0.05]], \n",
    "            columns=('distance', 'condutance', 'distance_stddev', 'conductance_stddev','Gauss_noise_stddev')))\n",
    "DM12 = sdg.DataMaker(MoleSigNodes=pd.DataFrame([[0.005, -2, 0, 0.001, 0.05], [0.01, -3, 0.001, 0.01, 0.1],[0.1, -3, 0.001, 0.01, 0.1], [0.03, -3.5, 0.001, 0.01, 0.1], [0.1, -3.5, 0.001, 0.01, 0.1],[0.03, -4, 0.001, 0.01, 0.1],[0.1, -4, 0.001, 0.01, 0.1],[0.03, -4.5, 0.001, 0.01, 0.1],[0.1, -4.5, 0.001, 0.01, 0.1],[0.03, -5, 0.001, 0.01, 0.1],[0.1, -5, 0.001, 0.01, 0.1],[0.14,-7,0.001,0.01,0.05]], \n",
    "            columns=('distance', 'condutance', 'distance_stddev', 'conductance_stddev','Gauss_noise_stddev')))\n",
    "\n",
    "\n",
    "for i in range(0,13):\n",
    "    name = 'DM'+str(i)\n",
    "    DM = globals()[name]\n",
    "    \n",
    "    DM.make_single_trace()\n",
    "    DM.plot_current_single_trace()\n",
    "    DM.make_traces(100)\n",
    "    DM.plot_trace_assemble_heatmap(x_range=[-0.5, 1.5], y_range=[-7, 1])\n",
    "    if i==0:\n",
    "        DM.save_trace_assemble('./GeneratedData/simu_13kinds.txt', mode='w')\n",
    "    else:\n",
    "        DM.save_trace_assemble('./GeneratedData/simu_13kinds.txt', mode='a')"
   ]
  },
  {
   "attachments": {},
   "cell_type": "markdown",
   "metadata": {},
   "source": [
    "## ConductancePlateau with various Position & Length"
   ]
  },
  {
   "cell_type": "code",
   "execution_count": null,
   "metadata": {},
   "outputs": [],
   "source": [
    "# -3\n",
    "DM0 = sdg.DataMaker(MoleSigNodes=pd.DataFrame([[0.001, -2, 0, 0.01, 0.01], [0.03, -2.5, 0.001, 0.01, 0.1], [0.03, -3.0, 0.001, 0.01, 0.1], [0.3, -3.0, 0.001, 0.01, 0.1], [0.002, -3.0, 0, 0, 0], [0.15,-7,0.001,0.001,0.001]], \n",
    "            columns=('distance', 'condutance', 'distance_stddev', 'conductance_stddev','Gauss_noise_stddev')))\n",
    "DM1 = sdg.DataMaker(MoleSigNodes=pd.DataFrame([[0.001, -2, 0, 0.01, 0.01], [0.03, -2.5, 0.001, 0.01, 0.1], [0.03, -3.0, 0.001, 0.01, 0.1], [0.6, -3.0, 0.001, 0.01, 0.1], [0.002, -3.0, 0, 0, 0], [0.15,-7,0.001,0.001,0.001]], \n",
    "            columns=('distance', 'condutance', 'distance_stddev', 'conductance_stddev','Gauss_noise_stddev')))\n",
    "DM2 = sdg.DataMaker(MoleSigNodes=pd.DataFrame([[0.001, -2, 0, 0.01, 0.01], [0.03, -2.5, 0.001, 0.01, 0.1], [0.03, -3.0, 0.001, 0.01, 0.1], [0.9, -3.0, 0.001, 0.01, 0.1], [0.002, -3.0, 0, 0, 0], [0.15,-7,0.001,0.001,0.001]], \n",
    "            columns=('distance', 'condutance', 'distance_stddev', 'conductance_stddev','Gauss_noise_stddev')))\n",
    "\n",
    "# -3.5\n",
    "DM3 = sdg.DataMaker(MoleSigNodes=pd.DataFrame([[0.001, -2.5, 0, 0.01, 0.01], [0.03, -3, 0.001, 0.01, 0.1], [0.03, -3.5, 0.001, 0.01, 0.1], [0.3, -3.5, 0.001, 0.01, 0.1], [0.002, -3.5, 0, 0, 0], [0.13,-7,0.001,0.001,0.001]], \n",
    "            columns=('distance', 'condutance', 'distance_stddev', 'conductance_stddev','Gauss_noise_stddev')))\n",
    "DM4 = sdg.DataMaker(MoleSigNodes=pd.DataFrame([[0.001, -2.5, 0, 0.01, 0.01], [0.03, -3, 0.001, 0.01, 0.1], [0.03, -3.5, 0.001, 0.01, 0.1], [0.6, -3.5, 0.001, 0.01, 0.1], [0.002, -3.5, 0, 0, 0], [0.13,-7,0.001,0.001,0.001]], \n",
    "            columns=('distance', 'condutance', 'distance_stddev', 'conductance_stddev','Gauss_noise_stddev')))\n",
    "DM5 = sdg.DataMaker(MoleSigNodes=pd.DataFrame([[0.001, -2.5, 0, 0.01, 0.01], [0.03, -3, 0.001, 0.01, 0.1], [0.03, -3.5, 0.001, 0.01, 0.1], [0.9, -3.5, 0.001, 0.01, 0.1], [0.002, -3.5, 0, 0, 0], [0.13,-7,0.001,0.001,0.001]], \n",
    "            columns=('distance', 'condutance', 'distance_stddev', 'conductance_stddev','Gauss_noise_stddev')))\n",
    "\n",
    "# -4\n",
    "DM6 = sdg.DataMaker(MoleSigNodes=pd.DataFrame([[0.001, -3, 0, 0.01, 0.01], [0.03, -3.5, 0.001, 0.01, 0.1], [0.03, -4.0, 0.001, 0.01, 0.1], [0.3, -4.0, 0.001, 0.01, 0.1], [0.002, -4.0, 0, 0, 0], [0.11,-7,0.001,0.001,0.001]], \n",
    "            columns=('distance', 'condutance', 'distance_stddev', 'conductance_stddev','Gauss_noise_stddev')))\n",
    "DM7 = sdg.DataMaker(MoleSigNodes=pd.DataFrame([[0.001, -3, 0, 0.01, 0.01], [0.03, -3.5, 0.001, 0.01, 0.1], [0.03, -4.0, 0.001, 0.01, 0.1], [0.6, -4.0, 0.001, 0.01, 0.1], [0.002, -4.0, 0, 0, 0], [0.11,-7,0.001,0.001,0.001]], \n",
    "            columns=('distance', 'condutance', 'distance_stddev', 'conductance_stddev','Gauss_noise_stddev')))\n",
    "DM8 = sdg.DataMaker(MoleSigNodes=pd.DataFrame([[0.001, -3, 0, 0.01, 0.01], [0.03, -3.5, 0.001, 0.01, 0.1], [0.03, -4.0, 0.001, 0.01, 0.1], [0.9, -4.0, 0.001, 0.01, 0.1], [0.002, -4.0, 0, 0, 0], [0.11,-7,0.001,0.001,0.001]], \n",
    "            columns=('distance', 'condutance', 'distance_stddev', 'conductance_stddev','Gauss_noise_stddev')))\n",
    "\n",
    "\n",
    "for i in range(0,9):\n",
    "    name = 'DM'+str(i)\n",
    "    DM = globals()[name]\n",
    "    \n",
    "    DM.make_single_trace()\n",
    "    DM.plot_current_single_trace()\n",
    "    DM.make_traces(100)\n",
    "    DM.plot_trace_assemble_heatmap(x_range=[-0.5, 1.5], y_range=[-7, 1])\n",
    "    if i==0:\n",
    "        DM.save_trace_assemble('./GeneratedData/simu_PosiLength.txt', mode='w')\n",
    "    else:\n",
    "        DM.save_trace_assemble('./GeneratedData/simu_PosiLength.txt', mode='a')\n"
   ]
  },
  {
   "attachments": {},
   "cell_type": "markdown",
   "metadata": {},
   "source": [
    "## ConductancePlateau with various Position & Trend"
   ]
  },
  {
   "cell_type": "code",
   "execution_count": null,
   "metadata": {},
   "outputs": [],
   "source": [
    "# -3\n",
    "DM0 = sdg.DataMaker(MoleSigNodes=pd.DataFrame([[0.001, -2.0, 0, 0.01, 0.01], [0.03, -2.5, 0.001, 0.01, 0.1], [0.03, -3.00, 0.001, 0.01, 0.1], [0.5, -3.00, 0.001, 0.01, 0.1], [0.002, -3.00, 0, 0, 0], [0.120,-7,0.001,0.001,0.001]], \n",
    "            columns=('distance', 'condutance', 'distance_stddev', 'conductance_stddev','Gauss_noise_stddev')))\n",
    "DM1 = sdg.DataMaker(MoleSigNodes=pd.DataFrame([[0.001, -2.0, 0, 0.01, 0.01], [0.03, -2.5, 0.001, 0.01, 0.1], [0.03, -2.75, 0.001, 0.01, 0.1], [0.5, -3.25, 0.001, 0.01, 0.1], [0.002, -3.25, 0, 0, 0], [0.080,-7,0.001,0.001,0.001]], \n",
    "            columns=('distance', 'condutance', 'distance_stddev', 'conductance_stddev','Gauss_noise_stddev')))\n",
    "DM2 = sdg.DataMaker(MoleSigNodes=pd.DataFrame([[0.001, -2.0, 0, 0.01, 0.01], [0.03, -2.5, 0.001, 0.01, 0.1], [0.03, -3.25, 0.001, 0.01, 0.1], [0.5, -2.75, 0.001, 0.01, 0.1], [0.002, -2.75, 0, 0, 0], [0.160,-7,0.001,0.001,0.001]], \n",
    "            columns=('distance', 'condutance', 'distance_stddev', 'conductance_stddev','Gauss_noise_stddev')))\n",
    "\n",
    "# -3.5\n",
    "DM3 = sdg.DataMaker(MoleSigNodes=pd.DataFrame([[0.001, -2.5, 0, 0.01, 0.01], [0.03, -3.0, 0.001, 0.01, 0.1], [0.03, -3.50, 0.001, 0.01, 0.1], [0.5, -3.50, 0.001, 0.01, 0.1], [0.002, -3.50, 0, 0, 0], [0.110,-7,0.001,0.001,0.001]], \n",
    "            columns=('distance', 'condutance', 'distance_stddev', 'conductance_stddev','Gauss_noise_stddev')))\n",
    "DM4 = sdg.DataMaker(MoleSigNodes=pd.DataFrame([[0.001, -2.5, 0, 0.01, 0.01], [0.03, -3.0, 0.001, 0.01, 0.1], [0.03, -3.25, 0.001, 0.01, 0.1], [0.5, -3.75, 0.001, 0.01, 0.1], [0.002, -3.75, 0, 0, 0], [0.070,-7,0.001,0.001,0.001]], \n",
    "            columns=('distance', 'condutance', 'distance_stddev', 'conductance_stddev','Gauss_noise_stddev')))\n",
    "DM5 = sdg.DataMaker(MoleSigNodes=pd.DataFrame([[0.001, -2.5, 0, 0.01, 0.01], [0.03, -3.0, 0.001, 0.01, 0.1], [0.03, -3.75, 0.001, 0.01, 0.1], [0.5, -3.25, 0.001, 0.01, 0.1], [0.002, -3.25, 0, 0, 0], [0.150,-7,0.001,0.001,0.001]], \n",
    "            columns=('distance', 'condutance', 'distance_stddev', 'conductance_stddev','Gauss_noise_stddev')))\n",
    "\n",
    "# -4\n",
    "DM6 = sdg.DataMaker(MoleSigNodes=pd.DataFrame([[0.001, -3.0, 0, 0.01, 0.01], [0.03, -3.5, 0.001, 0.01, 0.1], [0.03, -4.00, 0.001, 0.01, 0.1], [0.5, -4.00, 0.001, 0.01, 0.1], [0.002, -4.00, 0, 0, 0], [0.100,-7,0.001,0.001,0.001]], \n",
    "            columns=('distance', 'condutance', 'distance_stddev', 'conductance_stddev','Gauss_noise_stddev')))\n",
    "DM7 = sdg.DataMaker(MoleSigNodes=pd.DataFrame([[0.001, -3.0, 0, 0.01, 0.01], [0.03, -3.5, 0.001, 0.01, 0.1], [0.03, -3.75, 0.001, 0.01, 0.1], [0.5, -4.25, 0.001, 0.01, 0.1], [0.002, -4.25, 0, 0, 0], [0.060,-7,0.001,0.001,0.001]], \n",
    "            columns=('distance', 'condutance', 'distance_stddev', 'conductance_stddev','Gauss_noise_stddev')))\n",
    "DM8 = sdg.DataMaker(MoleSigNodes=pd.DataFrame([[0.001, -3.0, 0, 0.01, 0.01], [0.03, -3.5, 0.001, 0.01, 0.1], [0.03, -4.25, 0.001, 0.01, 0.1], [0.5, -3.75, 0.001, 0.01, 0.1], [0.002, -3.75, 0, 0, 0], [0.140,-7,0.001,0.001,0.001]], \n",
    "            columns=('distance', 'condutance', 'distance_stddev', 'conductance_stddev','Gauss_noise_stddev')))\n",
    "\n",
    "\n",
    "for i in range(0,9):\n",
    "    name = 'DM'+str(i)\n",
    "    DM = globals()[name]\n",
    "    \n",
    "    DM.make_single_trace()\n",
    "    DM.plot_current_single_trace()\n",
    "    DM.make_traces(100)\n",
    "    DM.plot_trace_assemble_heatmap(x_range=[-0.5, 1.5], y_range=[-7, 1])\n",
    "    if i==0:\n",
    "        DM.save_trace_assemble('./GeneratedData/simu_PosiTrend.txt', mode='w')\n",
    "    else:\n",
    "        DM.save_trace_assemble('./GeneratedData/simu_PosiTrend.txt', mode='a')\n"
   ]
  },
  {
   "attachments": {},
   "cell_type": "markdown",
   "metadata": {},
   "source": [
    "## ConductancePlateau with various Position & Noise"
   ]
  },
  {
   "cell_type": "code",
   "execution_count": null,
   "metadata": {},
   "outputs": [],
   "source": [
    "# -3\n",
    "DM0 = sdg.DataMaker(MoleSigNodes=pd.DataFrame([[0.001, -2, 0, 0.01, 0.01], [0.03, -2.5, 0.001, 0.01, 0.10], [0.03, -3.0, 0.001, 0.01, 0.10], [0.5, -3.0, 0.001, 0.01, 0.10], [0.002, -3.0, 0, 0, 0], [0.15,-7,0.001,0.001,0.001]], \n",
    "            columns=('distance', 'condutance', 'distance_stddev', 'conductance_stddev','Gauss_noise_stddev')))\n",
    "DM1 = sdg.DataMaker(MoleSigNodes=pd.DataFrame([[0.001, -2, 0, 0.01, 0.01], [0.03, -2.5, 0.001, 0.01, 0.15], [0.03, -3.0, 0.001, 0.01, 0.15], [0.5, -3.0, 0.001, 0.01, 0.15], [0.002, -3.0, 0, 0, 0], [0.15,-7,0.001,0.001,0.001]], \n",
    "            columns=('distance', 'condutance', 'distance_stddev', 'conductance_stddev','Gauss_noise_stddev')))\n",
    "DM2 = sdg.DataMaker(MoleSigNodes=pd.DataFrame([[0.001, -2, 0, 0.01, 0.01], [0.03, -2.5, 0.001, 0.01, 0.20], [0.03, -3.0, 0.001, 0.01, 0.20], [0.5, -3.0, 0.001, 0.01, 0.20], [0.002, -3.0, 0, 0, 0], [0.15,-7,0.001,0.001,0.001]], \n",
    "            columns=('distance', 'condutance', 'distance_stddev', 'conductance_stddev','Gauss_noise_stddev')))\n",
    "\n",
    "# -3.5\n",
    "DM3 = sdg.DataMaker(MoleSigNodes=pd.DataFrame([[0.001, -2.5, 0, 0.01, 0.01], [0.03, -3, 0.001, 0.01, 0.10], [0.03, -3.5, 0.001, 0.01, 0.10], [0.5, -3.5, 0.001, 0.01, 0.10], [0.002, -3.5, 0, 0, 0], [0.13,-7,0.001,0.001,0.001]], \n",
    "            columns=('distance', 'condutance', 'distance_stddev', 'conductance_stddev','Gauss_noise_stddev')))\n",
    "DM4 = sdg.DataMaker(MoleSigNodes=pd.DataFrame([[0.001, -2.5, 0, 0.01, 0.01], [0.03, -3, 0.001, 0.01, 0.15], [0.03, -3.5, 0.001, 0.01, 0.15], [0.5, -3.5, 0.001, 0.01, 0.15], [0.002, -3.5, 0, 0, 0], [0.13,-7,0.001,0.001,0.001]], \n",
    "            columns=('distance', 'condutance', 'distance_stddev', 'conductance_stddev','Gauss_noise_stddev')))\n",
    "DM5 = sdg.DataMaker(MoleSigNodes=pd.DataFrame([[0.001, -2.5, 0, 0.01, 0.01], [0.03, -3, 0.001, 0.01, 0.20], [0.03, -3.5, 0.001, 0.01, 0.20], [0.5, -3.5, 0.001, 0.01, 0.20], [0.002, -3.5, 0, 0, 0], [0.13,-7,0.001,0.001,0.001]], \n",
    "            columns=('distance', 'condutance', 'distance_stddev', 'conductance_stddev','Gauss_noise_stddev')))\n",
    "\n",
    "# -4\n",
    "DM6 = sdg.DataMaker(MoleSigNodes=pd.DataFrame([[0.001, -3, 0, 0.01, 0.01], [0.03, -3.5, 0.001, 0.01, 0.10], [0.03, -4.0, 0.001, 0.01, 0.10], [0.5, -4.0, 0.001, 0.01, 0.10], [0.002, -4.0, 0, 0, 0], [0.11,-7,0.001,0.001,0.001]], \n",
    "            columns=('distance', 'condutance', 'distance_stddev', 'conductance_stddev','Gauss_noise_stddev')))\n",
    "DM7 = sdg.DataMaker(MoleSigNodes=pd.DataFrame([[0.001, -3, 0, 0.01, 0.01], [0.03, -3.5, 0.001, 0.01, 0.15], [0.03, -4.0, 0.001, 0.01, 0.15], [0.5, -4.0, 0.001, 0.01, 0.15], [0.002, -4.0, 0, 0, 0], [0.11,-7,0.001,0.001,0.001]], \n",
    "            columns=('distance', 'condutance', 'distance_stddev', 'conductance_stddev','Gauss_noise_stddev')))\n",
    "DM8 = sdg.DataMaker(MoleSigNodes=pd.DataFrame([[0.001, -3, 0, 0.01, 0.01], [0.03, -3.5, 0.001, 0.01, 0.20], [0.03, -4.0, 0.001, 0.01, 0.20], [0.5, -4.0, 0.001, 0.01, 0.20], [0.002, -4.0, 0, 0, 0], [0.11,-7,0.001,0.001,0.001]], \n",
    "            columns=('distance', 'condutance', 'distance_stddev', 'conductance_stddev','Gauss_noise_stddev')))\n",
    "\n",
    "\n",
    "for i in range(0,9):\n",
    "    name = 'DM'+str(i)\n",
    "    DM = globals()[name]\n",
    "    \n",
    "    DM.make_single_trace()\n",
    "    DM.plot_current_single_trace()\n",
    "    DM.make_traces(100)\n",
    "    DM.plot_trace_assemble_heatmap(x_range=[-0.5, 1.5], y_range=[-7, 1])\n",
    "    if i==0:\n",
    "        DM.save_trace_assemble('./GeneratedData/simu_PosiNoise.txt', mode='w')\n",
    "    else:\n",
    "        DM.save_trace_assemble('./GeneratedData/simu_PosiNoise.txt', mode='a')\n"
   ]
  }
 ],
 "metadata": {
  "kernelspec": {
   "display_name": "Python 3",
   "language": "python",
   "name": "python3"
  },
  "language_info": {
   "codemirror_mode": {
    "name": "ipython",
    "version": 3
   },
   "file_extension": ".py",
   "mimetype": "text/x-python",
   "name": "python",
   "nbconvert_exporter": "python",
   "pygments_lexer": "ipython3",
   "version": "3.8.10"
  },
  "orig_nbformat": 4
 },
 "nbformat": 4,
 "nbformat_minor": 2
}
